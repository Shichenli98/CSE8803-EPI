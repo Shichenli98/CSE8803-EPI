{
 "cells": [
  {
   "cell_type": "code",
   "execution_count": 9,
   "id": "4a31b554",
   "metadata": {},
   "outputs": [],
   "source": [
    "from math import sqrt\n",
    "from numpy import concatenate\n",
    "from matplotlib import pyplot\n",
    "from pandas import read_csv\n",
    "from pandas import DataFrame\n",
    "from pandas import concat\n",
    "from sklearn.preprocessing import MinMaxScaler\n",
    "from sklearn.preprocessing import LabelEncoder\n",
    "from sklearn.metrics import mean_squared_error\n",
    "from keras.models import Sequential\n",
    "from keras.layers import Dense\n",
    "from keras.layers import LSTM\n",
    "\n",
    "# when you want to change feature size, search for 'here' !!"
   ]
  },
  {
   "cell_type": "code",
   "execution_count": 10,
   "id": "01b7dae7",
   "metadata": {},
   "outputs": [
    {
     "data": {
      "image/png": "[encoded data removed]",
      "text/plain": [
       "<Figure size 432x288 with 2 Axes>"
      ]
     },
     "metadata": {
      "needs_background": "light"
     },
     "output_type": "display_data"
    }
   ],
   "source": [
    "# load dataset confirmed and death is different dataset! but same procedure, the only thing has to change is the amount of feautres\n",
    "dataset = read_csv('predconfirmed_cumu_CA_08_12_confirmedonly.csv', header=0, index_col=0)#here!!\n",
    "values = dataset.values\n",
    "# specify columns to plot\n",
    "\n",
    "groups = [0, 1]#here\n",
    "\n",
    "i = 1\n",
    "# plot each column\n",
    "pyplot.figure()\n",
    "for group in groups:\n",
    "    pyplot.subplot(len(groups), 1, i)\n",
    "    pyplot.plot(values[:, group])\n",
    "    pyplot.title(dataset.columns[group], y=0.5, loc='right')\n",
    "    i += 1\n",
    "pyplot.show()"
   ]
  },
  {
   "cell_type": "code",
   "execution_count": 11,
   "id": "d2cf3b55",
   "metadata": {},
   "outputs": [],
   "source": [
    "# prepare data for lstm\n",
    "\n",
    "# convert series to supervised learning\n",
    "def series_to_supervised(data, n_in=1, n_out=1, dropnan=True):\n",
    "    n_vars = 1 if type(data) is list else data.shape[1]\n",
    "    df = DataFrame(data)\n",
    "    cols, names = list(), list()\n",
    "    # input sequence (t-n, ... t-1)\n",
    "    for i in range(n_in, 0, -1):\n",
    "        cols.append(df.shift(i))\n",
    "        names += [('var%d(t-%d)' % (j+1, i)) for j in range(n_vars)]\n",
    "    # forecast sequence (t, t+1, ... t+n)\n",
    "    for i in range(0, n_out):\n",
    "        cols.append(df.shift(-i))\n",
    "        if i == 0:\n",
    "            names += [('var%d(t)' % (j+1)) for j in range(n_vars)]\n",
    "        else:\n",
    "            names += [('var%d(t+%d)' % (j+1, i)) for j in range(n_vars)]\n",
    "    # put it all together\n",
    "    agg = concat(cols, axis=1)\n",
    "    agg.columns = names\n",
    "    # drop rows with NaN values\n",
    "    if dropnan:\n",
    "        agg.dropna(inplace=True)\n",
    "    return agg"
   ]
  },
  {
   "cell_type": "code",
   "execution_count": 12,
   "id": "06c65f01",
   "metadata": {
    "scrolled": true
   },
   "outputs": [
    {
     "name": "stdout",
     "output_type": "stream",
     "text": [
      "   var1(t-3)  var2(t-3)  var1(t-2)  var2(t-2)  var1(t-1)  var2(t-1)   var1(t)  \\\n",
      "3   0.000000   0.000000   0.008757   0.001885   0.015485   0.011093  0.023360   \n",
      "4   0.008757   0.001885   0.015485   0.011093   0.023360   0.019648  0.030393   \n",
      "5   0.015485   0.011093   0.023360   0.019648   0.030393   0.028420  0.037132   \n",
      "6   0.023360   0.019648   0.030393   0.028420   0.037132   0.035888  0.042447   \n",
      "7   0.030393   0.028420   0.037132   0.035888   0.042447   0.044080  0.049842   \n",
      "\n",
      "    var2(t)  \n",
      "3  0.019648  \n",
      "4  0.028420  \n",
      "5  0.035888  \n",
      "6  0.044080  \n",
      "7  0.045385  \n"
     ]
    }
   ],
   "source": [
    "# load dataset\n",
    "dataset = read_csv('predconfirmed_cumu_CA_08_12_confirmedonly.csv', header=0, index_col=0)#here!!\n",
    "values = dataset.values\n",
    "# integer encode direction\n",
    "encoder = LabelEncoder()\n",
    "#values[:,4] = encoder.fit_transform(values[:,4])#here!? only when this column is strings!!!\n",
    "# ensure all data is float\n",
    "values = values.astype('float32')\n",
    "# normalize features\n",
    "#scaled = values\n",
    "scaler = MinMaxScaler(feature_range=(0, 1))\n",
    "scaled = scaler.fit_transform(values)\n",
    "# specify the number of lag hours\n",
    "n_back = 3\n",
    "\n",
    "n_features = 2#here\n",
    "# frame as supervised learning\n",
    "reframed = series_to_supervised(scaled, n_back, 1)\n",
    "print(reframed.head())"
   ]
  },
  {
   "cell_type": "code",
   "execution_count": 13,
   "id": "9d55fbeb",
   "metadata": {},
   "outputs": [
    {
     "name": "stdout",
     "output_type": "stream",
     "text": [
      "(120, 1, 6) (120,) (30, 1, 6) (30,)\n"
     ]
    }
   ],
   "source": [
    "# split into train and test sets\n",
    "values = reframed.values\n",
    "n_train_days = 120#here!!\n",
    "train = values[:n_train_days, :]\n",
    "test = values[n_train_days:, :]\n",
    "# split into input and outputs\n",
    "n_obs = n_back * n_features\n",
    "train_X, train_y = train[:, :n_obs], train[:, -n_features]#predict confirmed, which is in the first column\n",
    "test_X, test_y = test[:, :n_obs], test[:, -n_features]\n",
    "# reshape input to be 3D [samples, timesteps, features]\n",
    "train_X = train_X.reshape((train_X.shape[0], 1, train_X.shape[1]))\n",
    "test_X = test_X.reshape((test_X.shape[0], 1, test_X.shape[1]))\n",
    "print(train_X.shape, train_y.shape, test_X.shape, test_y.shape)"
   ]
  },
  {
   "cell_type": "code",
   "execution_count": 14,
   "id": "36611a37",
   "metadata": {},
   "outputs": [],
   "source": [
    "from keras import backend as K\n",
    "def root_mean_squared_error(y_true, y_pred):\n",
    "        return K.sqrt(K.mean(K.square(y_pred - y_true)))"
   ]
  },
  {
   "cell_type": "code",
   "execution_count": 15,
   "id": "ab75afb0",
   "metadata": {
    "scrolled": true
   },
   "outputs": [
    {
     "name": "stdout",
     "output_type": "stream",
     "text": [
      "Epoch 1/100\n",
      "2/2 - 0s - loss: 0.3473 - val_loss: 0.7652\n",
      "Epoch 2/100\n",
      "2/2 - 0s - loss: 0.3305 - val_loss: 0.7375\n",
      "Epoch 3/100\n",
      "2/2 - 0s - loss: 0.3138 - val_loss: 0.7099\n",
      "Epoch 4/100\n",
      "2/2 - 0s - loss: 0.2972 - val_loss: 0.6823\n",
      "Epoch 5/100\n",
      "2/2 - 0s - loss: 0.2805 - val_loss: 0.6547\n",
      "Epoch 6/100\n",
      "2/2 - 0s - loss: 0.2638 - val_loss: 0.6268\n",
      "Epoch 7/100\n",
      "2/2 - 0s - loss: 0.2470 - val_loss: 0.5987\n",
      "Epoch 8/100\n",
      "2/2 - 0s - loss: 0.2301 - val_loss: 0.5703\n",
      "Epoch 9/100\n",
      "2/2 - 0s - loss: 0.2129 - val_loss: 0.5414\n",
      "Epoch 10/100\n",
      "2/2 - 0s - loss: 0.1956 - val_loss: 0.5120\n",
      "Epoch 11/100\n",
      "2/2 - 0s - loss: 0.1780 - val_loss: 0.4820\n",
      "Epoch 12/100\n",
      "2/2 - 0s - loss: 0.1601 - val_loss: 0.4513\n",
      "Epoch 13/100\n",
      "2/2 - 0s - loss: 0.1419 - val_loss: 0.4199\n",
      "Epoch 14/100\n",
      "2/2 - 0s - loss: 0.1234 - val_loss: 0.3877\n",
      "Epoch 15/100\n",
      "2/2 - 0s - loss: 0.1047 - val_loss: 0.3547\n",
      "Epoch 16/100\n",
      "2/2 - 0s - loss: 0.0859 - val_loss: 0.3210\n",
      "Epoch 17/100\n",
      "2/2 - 0s - loss: 0.0674 - val_loss: 0.2866\n",
      "Epoch 18/100\n",
      "2/2 - 0s - loss: 0.0502 - val_loss: 0.2522\n",
      "Epoch 19/100\n",
      "2/2 - 0s - loss: 0.0360 - val_loss: 0.2186\n",
      "Epoch 20/100\n",
      "2/2 - 0s - loss: 0.0284 - val_loss: 0.1882\n",
      "Epoch 21/100\n",
      "2/2 - 0s - loss: 0.0331 - val_loss: 0.1659\n",
      "Epoch 22/100\n",
      "2/2 - 0s - loss: 0.0414 - val_loss: 0.1544\n",
      "Epoch 23/100\n",
      "2/2 - 0s - loss: 0.0454 - val_loss: 0.1523\n",
      "Epoch 24/100\n",
      "2/2 - 0s - loss: 0.0447 - val_loss: 0.1577\n",
      "Epoch 25/100\n",
      "2/2 - 0s - loss: 0.0404 - val_loss: 0.1686\n",
      "Epoch 26/100\n",
      "2/2 - 0s - loss: 0.0341 - val_loss: 0.1832\n",
      "Epoch 27/100\n",
      "2/2 - 0s - loss: 0.0293 - val_loss: 0.1979\n",
      "Epoch 28/100\n",
      "2/2 - 0s - loss: 0.0284 - val_loss: 0.2090\n",
      "Epoch 29/100\n",
      "2/2 - 0s - loss: 0.0290 - val_loss: 0.2147\n",
      "Epoch 30/100\n",
      "2/2 - 0s - loss: 0.0292 - val_loss: 0.2154\n",
      "Epoch 31/100\n",
      "2/2 - 0s - loss: 0.0285 - val_loss: 0.2116\n",
      "Epoch 32/100\n",
      "2/2 - 0s - loss: 0.0269 - val_loss: 0.2045\n",
      "Epoch 33/100\n",
      "2/2 - 0s - loss: 0.0249 - val_loss: 0.1953\n",
      "Epoch 34/100\n",
      "2/2 - 0s - loss: 0.0234 - val_loss: 0.1858\n",
      "Epoch 35/100\n",
      "2/2 - 0s - loss: 0.0233 - val_loss: 0.1783\n",
      "Epoch 36/100\n",
      "2/2 - 0s - loss: 0.0238 - val_loss: 0.1746\n",
      "Epoch 37/100\n",
      "2/2 - 0s - loss: 0.0236 - val_loss: 0.1750\n",
      "Epoch 38/100\n",
      "2/2 - 0s - loss: 0.0224 - val_loss: 0.1783\n",
      "Epoch 39/100\n",
      "2/2 - 0s - loss: 0.0211 - val_loss: 0.1824\n",
      "Epoch 40/100\n",
      "2/2 - 0s - loss: 0.0204 - val_loss: 0.1852\n",
      "Epoch 41/100\n",
      "2/2 - 0s - loss: 0.0200 - val_loss: 0.1855\n",
      "Epoch 42/100\n",
      "2/2 - 0s - loss: 0.0194 - val_loss: 0.1831\n",
      "Epoch 43/100\n",
      "2/2 - 0s - loss: 0.0186 - val_loss: 0.1789\n",
      "Epoch 44/100\n",
      "2/2 - 0s - loss: 0.0179 - val_loss: 0.1742\n",
      "Epoch 45/100\n",
      "2/2 - 0s - loss: 0.0175 - val_loss: 0.1707\n",
      "Epoch 46/100\n",
      "2/2 - 0s - loss: 0.0173 - val_loss: 0.1692\n",
      "Epoch 47/100\n",
      "2/2 - 0s - loss: 0.0168 - val_loss: 0.1695\n",
      "Epoch 48/100\n",
      "2/2 - 0s - loss: 0.0162 - val_loss: 0.1707\n",
      "Epoch 49/100\n",
      "2/2 - 0s - loss: 0.0158 - val_loss: 0.1713\n",
      "Epoch 50/100\n",
      "2/2 - 0s - loss: 0.0156 - val_loss: 0.1705\n",
      "Epoch 51/100\n",
      "2/2 - 0s - loss: 0.0153 - val_loss: 0.1685\n",
      "Epoch 52/100\n",
      "2/2 - 0s - loss: 0.0150 - val_loss: 0.1658\n",
      "Epoch 53/100\n",
      "2/2 - 0s - loss: 0.0148 - val_loss: 0.1636\n",
      "Epoch 54/100\n",
      "2/2 - 0s - loss: 0.0146 - val_loss: 0.1625\n",
      "Epoch 55/100\n",
      "2/2 - 0s - loss: 0.0144 - val_loss: 0.1623\n",
      "Epoch 56/100\n",
      "2/2 - 0s - loss: 0.0143 - val_loss: 0.1626\n",
      "Epoch 57/100\n",
      "2/2 - 0s - loss: 0.0142 - val_loss: 0.1626\n",
      "Epoch 58/100\n",
      "2/2 - 0s - loss: 0.0142 - val_loss: 0.1619\n",
      "Epoch 59/100\n",
      "2/2 - 0s - loss: 0.0142 - val_loss: 0.1607\n",
      "Epoch 60/100\n",
      "2/2 - 0s - loss: 0.0141 - val_loss: 0.1594\n",
      "Epoch 61/100\n",
      "2/2 - 0s - loss: 0.0140 - val_loss: 0.1585\n",
      "Epoch 62/100\n",
      "2/2 - 0s - loss: 0.0140 - val_loss: 0.1581\n",
      "Epoch 63/100\n",
      "2/2 - 0s - loss: 0.0140 - val_loss: 0.1582\n",
      "Epoch 64/100\n",
      "2/2 - 0s - loss: 0.0140 - val_loss: 0.1583\n",
      "Epoch 65/100\n",
      "2/2 - 0s - loss: 0.0140 - val_loss: 0.1581\n",
      "Epoch 66/100\n",
      "2/2 - 0s - loss: 0.0140 - val_loss: 0.1576\n",
      "Epoch 67/100\n",
      "2/2 - 0s - loss: 0.0140 - val_loss: 0.1570\n",
      "Epoch 68/100\n",
      "2/2 - 0s - loss: 0.0139 - val_loss: 0.1565\n",
      "Epoch 69/100\n",
      "2/2 - 0s - loss: 0.0139 - val_loss: 0.1563\n",
      "Epoch 70/100\n",
      "2/2 - 0s - loss: 0.0139 - val_loss: 0.1563\n",
      "Epoch 71/100\n",
      "2/2 - 0s - loss: 0.0139 - val_loss: 0.1564\n",
      "Epoch 72/100\n",
      "2/2 - 0s - loss: 0.0139 - val_loss: 0.1564\n",
      "Epoch 73/100\n",
      "2/2 - 0s - loss: 0.0139 - val_loss: 0.1562\n",
      "Epoch 74/100\n",
      "2/2 - 0s - loss: 0.0138 - val_loss: 0.1559\n",
      "Epoch 75/100\n",
      "2/2 - 0s - loss: 0.0138 - val_loss: 0.1556\n",
      "Epoch 76/100\n",
      "2/2 - 0s - loss: 0.0138 - val_loss: 0.1555\n",
      "Epoch 77/100\n",
      "2/2 - 0s - loss: 0.0138 - val_loss: 0.1555\n",
      "Epoch 78/100\n",
      "2/2 - 0s - loss: 0.0137 - val_loss: 0.1555\n",
      "Epoch 79/100\n",
      "2/2 - 0s - loss: 0.0137 - val_loss: 0.1555\n",
      "Epoch 80/100\n",
      "2/2 - 0s - loss: 0.0137 - val_loss: 0.1553\n",
      "Epoch 81/100\n",
      "2/2 - 0s - loss: 0.0137 - val_loss: 0.1552\n",
      "Epoch 82/100\n",
      "2/2 - 0s - loss: 0.0137 - val_loss: 0.1550\n",
      "Epoch 83/100\n",
      "2/2 - 0s - loss: 0.0136 - val_loss: 0.1548\n",
      "Epoch 84/100\n",
      "2/2 - 0s - loss: 0.0136 - val_loss: 0.1548\n",
      "Epoch 85/100\n",
      "2/2 - 0s - loss: 0.0136 - val_loss: 0.1547\n",
      "Epoch 86/100\n",
      "2/2 - 0s - loss: 0.0136 - val_loss: 0.1546\n",
      "Epoch 87/100\n",
      "2/2 - 0s - loss: 0.0136 - val_loss: 0.1545\n",
      "Epoch 88/100\n",
      "2/2 - 0s - loss: 0.0135 - val_loss: 0.1543\n",
      "Epoch 89/100\n",
      "2/2 - 0s - loss: 0.0135 - val_loss: 0.1542\n",
      "Epoch 90/100\n",
      "2/2 - 0s - loss: 0.0135 - val_loss: 0.1540\n",
      "Epoch 91/100\n",
      "2/2 - 0s - loss: 0.0135 - val_loss: 0.1539\n",
      "Epoch 92/100\n",
      "2/2 - 0s - loss: 0.0135 - val_loss: 0.1538\n",
      "Epoch 93/100\n",
      "2/2 - 0s - loss: 0.0134 - val_loss: 0.1537\n",
      "Epoch 94/100\n",
      "2/2 - 0s - loss: 0.0134 - val_loss: 0.1535\n",
      "Epoch 95/100\n",
      "2/2 - 0s - loss: 0.0134 - val_loss: 0.1534\n",
      "Epoch 96/100\n",
      "2/2 - 0s - loss: 0.0134 - val_loss: 0.1532\n",
      "Epoch 97/100\n",
      "2/2 - 0s - loss: 0.0134 - val_loss: 0.1530\n",
      "Epoch 98/100\n",
      "2/2 - 0s - loss: 0.0133 - val_loss: 0.1529\n",
      "Epoch 99/100\n",
      "2/2 - 0s - loss: 0.0133 - val_loss: 0.1527\n",
      "Epoch 100/100\n",
      "2/2 - 0s - loss: 0.0133 - val_loss: 0.1526\n"
     ]
    },
    {
     "data": {
      "image/png": "[encoded data removed]",
      "text/plain": [
       "<Figure size 432x288 with 1 Axes>"
      ]
     },
     "metadata": {
      "needs_background": "light"
     },
     "output_type": "display_data"
    }
   ],
   "source": [
    "# design network\n",
    "model = Sequential()\n",
    "model.add(LSTM(50, input_shape=(train_X.shape[1], train_X.shape[2])))\n",
    "model.add(Dense(1))\n",
    "model.compile(loss=root_mean_squared_error, optimizer='adam')\n",
    "# fit network\n",
    "history = model.fit(train_X, train_y, epochs=100, batch_size=72, validation_data=(test_X, test_y), verbose=2, shuffle=False)\n",
    "# plot history\n",
    "pyplot.plot(history.history['loss'], label='train')\n",
    "pyplot.plot(history.history['val_loss'], label='test')\n",
    "pyplot.legend()\n",
    "pyplot.show()"
   ]
  },
  {
   "cell_type": "code",
   "execution_count": 16,
   "id": "ea153434",
   "metadata": {},
   "outputs": [
    {
     "name": "stdout",
     "output_type": "stream",
     "text": [
      "Test RMSE: 193469.766\n",
      "Test normalized RMSE: 0.154\n"
     ]
    }
   ],
   "source": [
    "# make a prediction\n",
    "yhat = model.predict(test_X)\n",
    "test_X_re = test_X.reshape((test_X.shape[0], n_obs))\n",
    "# invert scaling for forecast\n",
    "inv_yhat = concatenate((yhat, test_X_re[:, -n_features+1:]), axis=1)#-6 for 7 features -1 object\n",
    "inv_yhat = scaler.inverse_transform(inv_yhat)\n",
    "inv_yhat = inv_yhat[:,0]#it is our prediction\n",
    "# invert scaling for actual\n",
    "test_y = test_y.reshape((len(test_y), 1))\n",
    "inv_y = concatenate((test_y, test_X_re[:, -n_features+1:]), axis=1)#-6 for 7 features -1 object\n",
    "inv_y = scaler.inverse_transform(inv_y)\n",
    "inv_y = inv_y[:,0]\n",
    "# calculate RMSE\n",
    "import numpy as np\n",
    "rmse = sqrt(mean_squared_error(inv_y, inv_yhat))\n",
    "#inv_y_norm=np.linalg.norm(inv_y, ord=None, axis=None, keepdims=False)\n",
    "print('Test RMSE: %.3f' % rmse)\n",
    "print('Test normalized RMSE: %.3f' % (rmse/np.mean(inv_y)))"
   ]
  },
  {
   "cell_type": "code",
   "execution_count": 17,
   "id": "0ee44bee",
   "metadata": {},
   "outputs": [
    {
     "name": "stdout",
     "output_type": "stream",
     "text": [
      "Test RMSE5: 53574.771\n",
      "Test normalized RMSE5: 0.043\n"
     ]
    }
   ],
   "source": [
    "rmse5 = sqrt(mean_squared_error(inv_y[:5], inv_yhat[:5]))\n",
    "inv_y_norm5 = np.linalg.norm(inv_y[:5], ord=None, axis=None, keepdims=False)\n",
    "print('Test RMSE5: %.3f' % rmse5)\n",
    "print('Test normalized RMSE5: %.3f' % (rmse5/np.mean(inv_y)))"
   ]
  },
  {
   "cell_type": "code",
   "execution_count": 39,
   "id": "b164c307",
   "metadata": {
    "scrolled": true
   },
   "outputs": [
    {
     "data": {
      "image/png": "[encoded data removed]",
      "text/plain": [
       "<Figure size 432x288 with 1 Axes>"
      ]
     },
     "metadata": {
      "needs_background": "light"
     },
     "output_type": "display_data"
    }
   ],
   "source": [
    "pyplot.plot(inv_y, label=\"True\")\n",
    "pyplot.plot(inv_yhat, label=\"Prediction\")\n",
    "pyplot.legend(loc=\"upper left\")\n",
    "pyplot.title('Confirmed cases in CA in Dec(COVID only)')#here!!!\n",
    "#pyplot.title('Confirmed cases in CA in Dec(google)')\n",
    "#pyplot.title('Confirmed cases in CA in Dec(twitter)')\n",
    "pyplot.show()"
   ]
  },
  {
   "cell_type": "code",
   "execution_count": 18,
   "id": "d9f5358d",
   "metadata": {},
   "outputs": [],
   "source": [
    "def data_gen():\n",
    "    while True:\n",
    "        x = np.random.rand(5, 10, 3)  # batch x time x features\n",
    "        yield x, x[:, :, 0] * x[:, :, 1] < 0.25"
   ]
  },
  {
   "cell_type": "code",
   "execution_count": 19,
   "id": "3569b415",
   "metadata": {},
   "outputs": [],
   "source": [
    "def var_importance(model):\n",
    "    g = data_gen()\n",
    "    x = np.concatenate([next(g)[0] for _ in range(50)]) # Get a sample of data\n",
    "    orig_out = model.predict(x)\n",
    "    for i in range(7):  # iterate over the three features\n",
    "        new_x = x.copy()\n",
    "        perturbation = np.random.normal(0.0, 0.2, size=new_x.shape[:2])\n",
    "        new_x[:, :, i] = new_x[:, :, i] + perturbation\n",
    "        perturbed_out = model.predict(new_x)\n",
    "        effect = ((orig_out - perturbed_out) ** 2).mean() ** 0.5\n",
    "        print(f'Variable {i+1}, perturbation effect: {effect:.4f}')"
   ]
  },
  {
   "cell_type": "code",
   "execution_count": 20,
   "id": "d87b4fbb",
   "metadata": {},
   "outputs": [
    {
     "name": "stdout",
     "output_type": "stream",
     "text": [
      "Variable 1, perturbation effect: 0.0252\n",
      "Variable 2, perturbation effect: 0.0099\n"
     ]
    }
   ],
   "source": [
    "orig_out = yhat\n",
    "for i in range(n_features):  # iterate over the three features\n",
    "    new_x = test_X.copy()\n",
    "    #perturbation = np.random.normal(0.0, 0.2, size=new_x.shape[:2])\n",
    "    #new_x[:, :, i] = new_x[:, :, i] + perturbation\n",
    "    perturbation = 1.2\n",
    "    new_x[:, :, i] = new_x[:, :, i] * perturbation\n",
    "    perturbed_out = model.predict(new_x)\n",
    "    effect = ((orig_out - perturbed_out) ** 2).mean() ** 0.5\n",
    "    print(f'Variable {i+1}, perturbation effect: {effect:.4f}')"
   ]
  },
  {
   "cell_type": "code",
   "execution_count": null,
   "id": "8ceaf3cb",
   "metadata": {},
   "outputs": [],
   "source": []
  },
  {
   "cell_type": "code",
   "execution_count": null,
   "id": "ba6a99b1",
   "metadata": {},
   "outputs": [],
   "source": []
  }
 ],
 "metadata": {
  "kernelspec": {
   "display_name": "Python 3 (ipykernel)",
   "language": "python",
   "name": "python3"
  },
  "language_info": {
   "codemirror_mode": {
    "name": "ipython",
    "version": 3
   },
   "file_extension": ".py",
   "mimetype": "text/x-python",
   "name": "python",
   "nbconvert_exporter": "python",
   "pygments_lexer": "ipython3",
   "version": "3.8.12"
  }
 },
 "nbformat": 4,
 "nbformat_minor": 5
}
